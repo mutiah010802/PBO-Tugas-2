{
  "nbformat": 4,
  "nbformat_minor": 0,
  "metadata": {
    "colab": {
      "provenance": [],
      "authorship_tag": "ABX9TyOyLHFkMSCUIH7yorD1AiIg"
    },
    "kernelspec": {
      "name": "python3",
      "display_name": "Python 3"
    },
    "language_info": {
      "name": "python"
    }
  },
  "cells": [
    {
      "cell_type": "code",
      "source": [
        "class Dog:\n",
        "    # Class variable\n",
        "    species = \"Canine\"\n",
        "\n",
        "    def __init__(self, name, age):\n",
        "        # Instance variables\n",
        "        self.name = name\n",
        "        self.age = age\n",
        "\n",
        "# Create objects\n",
        "dog1 = Dog(\"Buddy\", 3)\n",
        "dog2 = Dog(\"Charlie\", 5)\n",
        "\n",
        "# Access class and instance variables\n",
        "print(dog1.species)  # (Class variable)\n",
        "print(dog1.name)     # (Instance variable)\n",
        "print(dog2.name)     # (Instance variable)\n",
        "\n",
        "# Modify instance variables\n",
        "dog1.name = \"Max\"\n",
        "print(dog1.name)     # (Updated instance variable)\n",
        "\n",
        "# Modify class variable\n",
        "Dog.species = \"Feline\"\n",
        "print(dog1.species)  # (Updated class variable)\n",
        "print(dog2.species)"
      ],
      "metadata": {
        "colab": {
          "base_uri": "https://localhost:8080/"
        },
        "id": "M66azU-FnU26",
        "outputId": "aa58e538-0283-4ff0-f39b-18d69f6c4c37"
      },
      "execution_count": 3,
      "outputs": [
        {
          "output_type": "stream",
          "name": "stdout",
          "text": [
            "Canine\n",
            "Buddy\n",
            "Charlie\n",
            "Max\n",
            "Feline\n",
            "Feline\n"
          ]
        }
      ]
    }
  ]
}