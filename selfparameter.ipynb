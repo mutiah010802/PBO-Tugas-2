{
  "nbformat": 4,
  "nbformat_minor": 0,
  "metadata": {
    "colab": {
      "provenance": [],
      "authorship_tag": "ABX9TyP2lWsFaH9dELgd6nikSCEZ"
    },
    "kernelspec": {
      "name": "python3",
      "display_name": "Python 3"
    },
    "language_info": {
      "name": "python"
    }
  },
  "cells": [
    {
      "cell_type": "code",
      "source": [
        "class Dog:\n",
        "    species = \"Canine\"  # Class attribute\n",
        "\n",
        "    def __init__(self, name, age):\n",
        "        self.name = name  # Instance attribute\n",
        "        self.age = age  # Instance attribute\n",
        "\n",
        "dog1 = Dog(\"Buddy\", 3)  # Create an instance of Dog\n",
        "dog2 = Dog(\"Charlie\", 5)  # Create another instance of Dog\n",
        "\n",
        "print(dog1.name, dog1.age, dog1.species)  # Access instance and class attributes\n",
        "print(dog2.name, dog2.age, dog2.species)  # Access instance and class attributes\n",
        "print(Dog.species)  # Access class attribute directly"
      ],
      "metadata": {
        "colab": {
          "base_uri": "https://localhost:8080/"
        },
        "id": "_AU2sfcenz77",
        "outputId": "12adedee-bebb-4036-e88c-412810e2670e"
      },
      "execution_count": 4,
      "outputs": [
        {
          "output_type": "stream",
          "name": "stdout",
          "text": [
            "Buddy 3 Canine\n",
            "Charlie 5 Canine\n",
            "Canine\n"
          ]
        }
      ]
    }
  ]
}